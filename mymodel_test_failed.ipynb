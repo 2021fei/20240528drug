{
 "cells": [
  {
   "cell_type": "markdown",
   "metadata": {
    "id": "aA5ncjhFVt8Q"
   },
   "source": [
    "# DrugBAN Running Demo | [Paper](https://doi.org/10.1038/s42256-022-00605-1) | [Repo](https://github.com/peizhenbai/DrugBAN)\n",
    "\n",
    "| [Open In Colab](https://colab.research.google.com/github/pz-white/DrugBAN/blob/main/drugban_demo.ipynb) (click `Runtime` → `Run all (Ctrl+F9)` |\n",
    "\n",
    "This is a code demo of DrugBAN framework for drug-target interaction prediction. It takes about 3 minutes to run the whole pipeline."
   ]
  },
  {
   "cell_type": "markdown",
   "metadata": {
    "id": "kZPwj94JXy8K"
   },
   "source": [
    "## Setup\n",
    "\n",
    "The first few blocks of code are necessary to set up the notebook execution environment. This checks if the notebook is running on Google Colab and installs required packages."
   ]
  },
  {
   "cell_type": "code",
   "execution_count": null,
   "metadata": {
    "id": "i-mTHW00YW9S"
   },
   "outputs": [],
   "source": [
    "# if 'google.colab' in str(get_ipython()):\n",
    "#     print('Running on CoLab')\n",
    "#     !pip uninstall --yes yellowbrick\n",
    "#     !pip install -U -q psutil\n",
    "#     !pip install dgl dgllife\n",
    "#     !pip install rdkit-pypi\n",
    "#     !pip install PrettyTable yacs\n",
    "#     !git clone https://github.com/pz-white/DrugBAN.git\n",
    "#     %cd DrugBAN\n",
    "# else:\n",
    "#     print('Not running on CoLab')"
   ]
  },
  {
   "cell_type": "markdown",
   "metadata": {
    "id": "CYbEP_eRl2BG"
   },
   "source": [
    "## Import required modules."
   ]
  },
  {
   "cell_type": "code",
   "execution_count": 1,
   "metadata": {
    "id": "fIJ2vLKhY-Ul"
   },
   "outputs": [],
   "source": [
    "from models import DrugBAN\n",
    "from time import time\n",
    "from utils import set_seed, graph_collate_func, mkdir\n",
    "from configs import get_cfg_defaults\n",
    "from dataloader import DTIDataset, MultiDataLoader\n",
    "from torch.utils.data import DataLoader\n",
    "from trainer import Trainer\n",
    "from domain_adaptator import Discriminator\n",
    "import torch\n",
    "import argparse\n",
    "import warnings, os\n",
    "import pandas as pd\n",
    "import pickle\n",
    "import rdkit\n",
    "from rdkit import Chem\n",
    "from rdkit.Chem import AllChem"
   ]
  },
  {
   "cell_type": "markdown",
   "metadata": {
    "id": "5Uldo3zTqO6j"
   },
   "source": [
    "## Configuration\n",
    "\n",
    "The customized configuration used in this demo is stored in `configs/DrugBAN_Demo.yaml`, this file overwrites defaults in `config.py` where a value is specified.\n",
    "\n",
    "For saving time to run a whole pipeline in this demo, we sample small subsets from the original BindingDB dataset, which is located at `datasets/bindingdb_sample`"
   ]
  },
  {
   "cell_type": "code",
   "execution_count": 2,
   "metadata": {
    "id": "hy5zyx55qUtY"
   },
   "outputs": [
    {
     "name": "stdout",
     "output_type": "stream",
     "text": [
      "Config yaml: ./configs/DrugBAN_Demo.yaml\n",
      "Running on: cpu\n",
      "Hyperparameters:\n"
     ]
    },
    {
     "data": {
      "text/plain": [
       "{'DRUG': CfgNode({'NODE_IN_FEATS': 75, 'PADDING': True, 'HIDDEN_LAYERS': [128, 128, 128], 'NODE_IN_EMBEDDING': 128, 'MAX_NODES': 290}),\n",
       " 'PROTEIN': CfgNode({'NUM_FILTERS': [128, 128, 128], 'KERNEL_SIZE': [3, 6, 9], 'EMBEDDING_DIM': 128, 'PADDING': True}),\n",
       " 'BCN': CfgNode({'HEADS': 2}),\n",
       " 'DECODER': CfgNode({'NAME': 'MLP', 'IN_DIM': 256, 'HIDDEN_DIM': 512, 'OUT_DIM': 128, 'BINARY': 1}),\n",
       " 'SOLVER': CfgNode({'MAX_EPOCH': 10, 'BATCH_SIZE': 64, 'NUM_WORKERS': 0, 'LR': 5e-05, 'DA_LR': 0.001, 'SEED': 42}),\n",
       " 'RESULT': CfgNode({'OUTPUT_DIR': './result/demo', 'SAVE_MODEL': True}),\n",
       " 'DA': CfgNode({'TASK': False, 'METHOD': 'CDAN', 'USE': False, 'INIT_EPOCH': 10, 'LAMB_DA': 1, 'RANDOM_LAYER': False, 'ORIGINAL_RANDOM': False, 'RANDOM_DIM': None, 'USE_ENTROPY': True}),\n",
       " 'COMET': CfgNode({'WORKSPACE': 'pz-white', 'PROJECT_NAME': 'DrugBAN', 'USE': False, 'TAG': None})}"
      ]
     },
     "execution_count": 2,
     "metadata": {},
     "output_type": "execute_result"
    }
   ],
   "source": [
    "device = torch.device('cuda' if torch.cuda.is_available() else 'cpu')\n",
    "cfg_path = \"./configs/DrugBAN_Demo.yaml\"\n",
    "data = \"binding_db_refined/random\"\n",
    "comet_support = False\n",
    "\n",
    "cfg = get_cfg_defaults()\n",
    "cfg.merge_from_file(cfg_path)\n",
    "cfg.freeze()\n",
    "\n",
    "torch.cuda.empty_cache()\n",
    "warnings.filterwarnings(\"ignore\")\n",
    "set_seed(cfg.SOLVER.SEED)\n",
    "mkdir(cfg.RESULT.OUTPUT_DIR)\n",
    "experiment = None\n",
    "print(f\"Config yaml: {cfg_path}\")\n",
    "print(f\"Running on: {device}\")\n",
    "print(f\"Hyperparameters:\")\n",
    "dict(cfg)"
   ]
  },
  {
   "cell_type": "markdown",
   "metadata": {
    "id": "h4O4qY-NrqP7"
   },
   "source": [
    "## Data Loader\n",
    "\n",
    "The train/valid/test datasets are specified using the `DTIDataset()` function and loaded using the `DataLoader()` function."
   ]
  },
  {
   "cell_type": "code",
   "execution_count": 3,
   "metadata": {},
   "outputs": [],
   "source": [
    "# # 给df里的小分子加上坐标并保存\n",
    "# def add_xyz(df):\n",
    "#     bad_mol = []\n",
    "#     coords_list = []\n",
    "#     list_ids = df.index.values\n",
    "#     print(len(list_ids))\n",
    "#     for index in list_ids:\n",
    "#         if index%100 == 0:\n",
    "#             print(index)\n",
    "#         try:\n",
    "#             mol_smiles = df.iloc[index]['SMILES']\n",
    "#             # 给分子图加上坐标\n",
    "#             mol = Chem.MolFromSmiles(mol_smiles)\n",
    "#             mol = Chem.AddHs(mol)\n",
    "#             # 获取坐标\n",
    "#             AllChem.EmbedMolecule(mol)\n",
    "#             AllChem.UFFOptimizeMolecule(mol)\n",
    "#             # 获取优化后的分子坐标\n",
    "#             coords = mol.GetConformer().GetPositions()\n",
    "#             coords = torch.tensor(coords, dtype=torch.float32)\n",
    "#         except:\n",
    "#             bad_mol.append(index)\n",
    "#             coords = None\n",
    "#         coords_list.append(coords)\n",
    "    \n",
    "#     df['xyz'] = coords_list\n",
    "#     # 删除指定索引的行\n",
    "#     df = df.drop(bad_mol)\n",
    "#     # 重新排列索引\n",
    "#     df = df.reset_index(drop=True)\n",
    "#     return bad_mol, df\n",
    "\n"
   ]
  },
  {
   "cell_type": "code",
   "execution_count": 4,
   "metadata": {},
   "outputs": [],
   "source": [
    "# # 给bingding_db数据集里的小分子加上坐标并保存\n",
    "# bad_train, train_refine = add_xyz(df_train)\n",
    "# with open(\"/Users/caozhiwei/RDKit/DrugBAN-main/datasets/binding_db_refined/random/train.pkl\",'wb') as file:\n",
    "#     pickle.dump(train_refine,file)\n",
    "\n",
    "# bad_val, val_refine = add_xyz(df_val)\n",
    "# with open(\"/Users/caozhiwei/RDKit/DrugBAN-main/datasets/binding_db_refined/random/val.pkl\",'wb') as file:\n",
    "#     pickle.dump(val_refine,file)\n",
    "\n",
    "# bad_test, test_refine = add_xyz(df_test)\n",
    "# with open(\"/Users/caozhiwei/RDKit/DrugBAN-main/datasets/binding_db_refined/random/test.pkl\",'wb') as file:\n",
    "#     pickle.dump(test_refine,file)"
   ]
  },
  {
   "cell_type": "code",
   "execution_count": 5,
   "metadata": {},
   "outputs": [
    {
     "name": "stdout",
     "output_type": "stream",
     "text": [
      "34305\n",
      "34299\n"
     ]
    }
   ],
   "source": [
    "dataFolder = f'./datasets/{data}'\n",
    "\n",
    "train_path = os.path.join(dataFolder, 'train.pkl')\n",
    "val_path = os.path.join(dataFolder, \"val.pkl\")\n",
    "test_path = os.path.join(dataFolder, \"test.pkl\")\n",
    "\n",
    "with open(train_path, 'rb') as file:\n",
    "    df_train =pickle.load(file)\n",
    "with open(val_path, 'rb') as file:\n",
    "    df_val =pickle.load(file)\n",
    "with open(test_path, 'rb') as file:\n",
    "    df_test =pickle.load(file)\n",
    "print(len(df_train.index.values))\n",
    "\n",
    "df_train = df_train.drop([320, 2287, 6926, 11398, 11480, 29670])\n",
    "df_train = df_train.reset_index(drop=True)\n",
    "print(len(df_train.index.values))"
   ]
  },
  {
   "cell_type": "code",
   "execution_count": 6,
   "metadata": {
    "id": "N3jilfWtr2VR"
   },
   "outputs": [],
   "source": [
    "train_dataset = DTIDataset(df_train.index.values, df_train)\n",
    "val_dataset = DTIDataset(df_val.index.values, df_val)\n",
    "test_dataset = DTIDataset(df_test.index.values, df_test)\n",
    "\n",
    "params = {'batch_size': cfg.SOLVER.BATCH_SIZE, 'shuffle': True, 'num_workers': cfg.SOLVER.NUM_WORKERS, 'drop_last': True, 'collate_fn': graph_collate_func}\n",
    "training_generator = DataLoader(train_dataset, **params)\n",
    "params['shuffle'] = False\n",
    "params['drop_last'] = False\n",
    "val_generator = DataLoader(val_dataset, **params)\n",
    "test_generator = DataLoader(test_dataset, **params)"
   ]
  },
  {
   "cell_type": "code",
   "execution_count": null,
   "metadata": {},
   "outputs": [],
   "source": [
    "# from models import swish, Interaction, FlexibleMol\n",
    "# drug_extractor = FlexibleMol(node_channels=74, \n",
    "#                              num_radial=6, \n",
    "#                              num_spherical=3, \n",
    "#                              cutoff=3.0, \n",
    "#                              hidden_channels=128, \n",
    "#                              middle_channels=256,\n",
    "#                              num_gnn=3, \n",
    "#                              num_lin=3, \n",
    "#                              num_res=4, \n",
    "#                              act=swish)"
   ]
  },
  {
   "cell_type": "code",
   "execution_count": null,
   "metadata": {},
   "outputs": [],
   "source": [
    "# # 找出会出错误的小分子的索引\n",
    "# for i in range(len(train_dataset)):\n",
    "#     if i % 1000 == 0:\n",
    "#         print('now is {}'.format(i))\n",
    "#     v_d = drug_extractor(train_dataset[i][0], train_dataset[i][1])\n",
    "#     has_nan = torch.isnan(v_d)\n",
    "#     if torch.any(has_nan):\n",
    "#         print(i)"
   ]
  },
  {
   "cell_type": "markdown",
   "metadata": {
    "id": "-pja2a7Ss1-I"
   },
   "source": [
    "## Setup Model and Optimizer\n",
    "\n",
    "Here, we use the previously defined configuration to set up the model and optimizer we will subsequently train.\n"
   ]
  },
  {
   "cell_type": "code",
   "execution_count": 7,
   "metadata": {
    "id": "XXj0Wzw5s-iu"
   },
   "outputs": [],
   "source": [
    "model = DrugBAN(**cfg).to(device)\n",
    "opt = torch.optim.Adam(model.parameters(), lr=cfg.SOLVER.LR)\n",
    "if torch.cuda.is_available():\n",
    "    torch.backends.cudnn.benchmark = True"
   ]
  },
  {
   "cell_type": "markdown",
   "metadata": {
    "id": "g9SqUJ5ptTUe"
   },
   "source": [
    "## Model Training and Test Optimized Model\n",
    "\n",
    "Optimize model parameters using the trainer and check test performance."
   ]
  },
  {
   "cell_type": "code",
   "execution_count": null,
   "metadata": {
    "id": "XH9k2L94tXac"
   },
   "outputs": [],
   "source": [
    "trainer = Trainer(model, opt, device, training_generator, val_generator, test_generator, opt_da=None, discriminator=None, experiment=experiment, **cfg)\n",
    "result = trainer.train()\n",
    "with open(os.path.join(cfg.RESULT.OUTPUT_DIR, \"model_architecture.txt\"), \"w\") as wf:\n",
    "    wf.write(str(model))\n",
    "print(f\"Directory for saving result: {cfg.RESULT.OUTPUT_DIR}\")"
   ]
  },
  {
   "cell_type": "markdown",
   "metadata": {
    "id": "haKH889bNPvE"
   },
   "source": [
    "## Expected Output\n",
    "\n",
    "Awesome! You complete all demo steps and should get output like the following. Please note that these numbers might be different due to the update of environment setup on colab.\n",
    "\n",
    "```\n",
    "Training at Epoch 1 with training loss 0.7483742804754347\n",
    "Validation at Epoch 1 with validation loss 0.6943950802087784  AUROC 0.6544117647058824 AUPRC 0.44206349206349205\n",
    "Test at Best Model of Epoch 1 with test loss 0.6565468311309814  AUROC 0.4245614035087719 AUPRC 0.4018830588082055 Sensitivity 0.0 Specificity 1.0 Accuracy 0.3877551020408163 Thred_optim 0.42230069637298584\n",
    "Directory for saving result: ./result/demo\n",
    "```\n",
    "\n",
    "Finally, the output result is saved in the colab temporary directory: `DrugBAN/result/demo`. You can access it by clicking `Files` tab on the left side of colab interface."
   ]
  },
  {
   "cell_type": "code",
   "execution_count": null,
   "metadata": {},
   "outputs": [],
   "source": []
  }
 ],
 "metadata": {
  "colab": {
   "authorship_tag": "ABX9TyOWzo58scbEjeAOtw2zzTUE",
   "name": "drugban_demo.ipynb",
   "provenance": []
  },
  "gpuClass": "standard",
  "kernelspec": {
   "display_name": "Python 3 (ipykernel)",
   "language": "python",
   "name": "python3"
  },
  "language_info": {
   "codemirror_mode": {
    "name": "ipython",
    "version": 3
   },
   "file_extension": ".py",
   "mimetype": "text/x-python",
   "name": "python",
   "nbconvert_exporter": "python",
   "pygments_lexer": "ipython3",
   "version": "3.9.15"
  }
 },
 "nbformat": 4,
 "nbformat_minor": 4
}
